{
 "cells": [
  {
   "cell_type": "code",
   "execution_count": 2,
   "metadata": {},
   "outputs": [],
   "source": [
    "import earthkit as ek\n",
    "import os"
   ]
  },
  {
   "cell_type": "code",
   "execution_count": 7,
   "metadata": {},
   "outputs": [
    {
     "name": "stderr",
     "output_type": "stream",
     "text": [
      "2024-11-01 13:58:01,454 INFO [2024-09-26T00:00:00] Welcome to the New [CEMS](https://emergency.copernicus.eu/) [Early Warning Data Store (EWDS)](https://ewds-beta.climate.copernicus.eu/)! This new system is in its early days of full operations and still undergoing enhancements and fine tuning. Some disruptions are to be expected. Your [feedback](https://jira.ecmwf.int/plugins/servlet/desk/portal/1/create/202) is key to improve the user experience on the new EWDS for the benefit of everyone. Thank you.\n",
      "2024-11-01 13:58:01,455 INFO [2024-09-26T00:00:00] Watch our [Forum]( https://forum.ecmwf.int/) for Announcements, news and other discussed topics.\n",
      "2024-11-01 13:58:01,567 INFO [2024-09-26T00:00:00] Welcome to the New [CEMS](https://emergency.copernicus.eu/) [Early Warning Data Store (EWDS)](https://ewds-beta.climate.copernicus.eu/)! This new system is in its early days of full operations and still undergoing enhancements and fine tuning. Some disruptions are to be expected. Your [feedback](https://jira.ecmwf.int/plugins/servlet/desk/portal/1/create/202) is key to improve the user experience on the new EWDS for the benefit of everyone. Thank you.\n",
      "2024-11-01 13:58:01,567 INFO [2024-09-26T00:00:00] Watch our [Forum]( https://forum.ecmwf.int/) for Announcements, news and other discussed topics.\n",
      "2024-11-01 13:58:01,802 WARNING [2023-12-12T13:00:00] This is a CEMS dataset!\n",
      "2024-11-01 13:58:01,803 INFO Request ID is 9a2d3106-2a7e-4ca4-8f61-746c3515baf1\n",
      "2024-11-01 13:58:01,858 INFO status has been updated to accepted\n",
      "2024-11-01 13:58:05,781 INFO status has been updated to running\n",
      "2024-11-01 13:58:22,012 INFO status has been updated to successful\n"
     ]
    },
    {
     "data": {
      "application/vnd.jupyter.widget-view+json": {
       "model_id": "7cbb9e5d8c2245ca8f1b9dca90835b8f",
       "version_major": 2,
       "version_minor": 0
      },
      "text/plain": [
       "bda7ae393d31dd692d6b61b7e8218d2b.grib:   0%|          | 0.00/675k [00:00<?, ?B/s]"
      ]
     },
     "metadata": {},
     "output_type": "display_data"
    }
   ],
   "source": [
    "DOWNLOAD_FROM_CDS = False\n",
    "LOCAL_DATA_DIR = \"data/\"\n",
    "TARGET=f\"{LOCAL_DATA_DIR}/fwinx_reanalysis.grib\"\n",
    "os.makedirs(LOCAL_DATA_DIR,exist_ok=True)\n",
    "\n",
    "fwi_data = ek.data.from_source(\n",
    "    \"cds\",\n",
    "    \"cems-fire-historical-v1\",\n",
    "    variable= [\"fire_weather_index\"],\n",
    "    dataset_type= \"consolidated_dataset\",\n",
    "    system_version= [\"4_1\"],\n",
    "    year= [\"2024\"],\n",
    "    month= [\"07\"],\n",
    "    day= [\"31\"],\n",
    "    grid= \"0.25/0.25\"\n",
    ")"
   ]
  }
 ],
 "metadata": {
  "kernelspec": {
   "display_name": "earthkit",
   "language": "python",
   "name": "python3"
  },
  "language_info": {
   "codemirror_mode": {
    "name": "ipython",
    "version": 3
   },
   "file_extension": ".py",
   "mimetype": "text/x-python",
   "name": "python",
   "nbconvert_exporter": "python",
   "pygments_lexer": "ipython3",
   "version": "3.10.15"
  }
 },
 "nbformat": 4,
 "nbformat_minor": 2
}
