{
 "cells": [
  {
   "cell_type": "code",
   "execution_count": 2,
   "metadata": {},
   "outputs": [],
   "source": [
    "import earthkit as ek\n",
    "import cdsapi\n",
    "import os"
   ]
  },
  {
   "cell_type": "code",
   "execution_count": 3,
   "metadata": {},
   "outputs": [
    {
     "name": "stderr",
     "output_type": "stream",
     "text": [
      "2024-11-01 13:53:29,526 INFO [2024-09-26T00:00:00] Welcome to the New [CEMS](https://emergency.copernicus.eu/) [Early Warning Data Store (EWDS)](https://ewds-beta.climate.copernicus.eu/)! This new system is in its early days of full operations and still undergoing enhancements and fine tuning. Some disruptions are to be expected. Your [feedback](https://jira.ecmwf.int/plugins/servlet/desk/portal/1/create/202) is key to improve the user experience on the new EWDS for the benefit of everyone. Thank you.\n",
      "2024-11-01 13:53:29,526 INFO [2024-09-26T00:00:00] Watch our [Forum]( https://forum.ecmwf.int/) for Announcements, news and other discussed topics.\n",
      "2024-11-01 13:53:29,704 WARNING [2023-12-12T13:00:00] This is a CEMS dataset!\n",
      "2024-11-01 13:53:29,705 INFO Request ID is 648d8847-1e7f-4b39-9763-a437e5a8f671\n",
      "2024-11-01 13:53:29,812 INFO status has been updated to accepted\n",
      "2024-11-01 13:53:31,411 INFO status has been updated to running\n",
      "2024-11-01 13:53:33,710 INFO status has been updated to successful\n"
     ]
    },
    {
     "data": {
      "application/vnd.jupyter.widget-view+json": {
       "model_id": "a0ded82187944540b1643382d837856b",
       "version_major": 2,
       "version_minor": 0
      },
      "text/plain": [
       "c9eb84e072ac376a1fef8c5f64178ba9.grib:   0%|          | 0.00/675k [00:00<?, ?B/s]"
      ]
     },
     "metadata": {},
     "output_type": "display_data"
    },
    {
     "data": {
      "text/html": [
       "GRIBReader(data//fwinx_reanalysis.grib)"
      ],
      "text/plain": [
       "GRIBReader(data//fwinx_reanalysis.grib)"
      ]
     },
     "execution_count": 3,
     "metadata": {},
     "output_type": "execute_result"
    }
   ],
   "source": [
    "LOCAL_DATA_DIR = \"data/\"\n",
    "TARGET=f\"{LOCAL_DATA_DIR}/fwinx_reanalysis.grib\"\n",
    "os.makedirs(LOCAL_DATA_DIR,exist_ok=True)\n",
    "\n",
    "\n",
    "URL = 'https://ewds.climate.copernicus.eu/api'\n",
    "KEY = '14e44bc7-0f33-4a57-847f-f41f44c5ec4d'\n",
    "cdsapi_kwargs = {\n",
    "    'url': URL,\n",
    "    'key': KEY,\n",
    "}\n",
    "\n",
    "dataset = \"cems-fire-historical-v1\"\n",
    "request = {\n",
    "    \"variable\": [\"fire_weather_index\"],\n",
    "    \"dataset_type\": \"consolidated_dataset\",\n",
    "    \"system_version\": [\"4_1\"],\n",
    "    \"year\": [\"2024\"],\n",
    "    \"month\": [\"07\"],\n",
    "    \"day\": [\"31\"],\n",
    "    \"grid\": \"0.25/0.25\",\n",
    "    \"data_format\": \"grib\"\n",
    "}\n",
    "\n",
    "client = cdsapi.Client(**cdsapi_kwargs)\n",
    "client.retrieve(dataset, request, TARGET)\n",
    "fwi_data = ek.data.from_source(\"file\", TARGET)\n",
    "fwi_data"
   ]
  }
 ],
 "metadata": {
  "kernelspec": {
   "display_name": "earthkit",
   "language": "python",
   "name": "python3"
  },
  "language_info": {
   "codemirror_mode": {
    "name": "ipython",
    "version": 3
   },
   "file_extension": ".py",
   "mimetype": "text/x-python",
   "name": "python",
   "nbconvert_exporter": "python",
   "pygments_lexer": "ipython3",
   "version": "3.10.15"
  }
 },
 "nbformat": 4,
 "nbformat_minor": 2
}
